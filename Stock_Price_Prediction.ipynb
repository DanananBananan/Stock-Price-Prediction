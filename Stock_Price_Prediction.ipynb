{
 "cells": [
  {
   "cell_type": "code",
   "execution_count": null,
   "metadata": {},
   "outputs": [],
   "source": [
    "import csv"
   ]
  },
  {
   "cell_type": "code",
   "execution_count": 2,
   "metadata": {},
   "outputs": [],
   "source": [
    "import numpy as np"
   ]
  },
  {
   "cell_type": "code",
   "execution_count": 3,
   "metadata": {},
   "outputs": [],
   "source": [
    "from sklearn.svm import SVR"
   ]
  },
  {
   "cell_type": "code",
   "execution_count": 4,
   "metadata": {},
   "outputs": [],
   "source": [
    "import matplotlib.pyplot as plt"
   ]
  },
  {
   "cell_type": "code",
   "execution_count": 5,
   "metadata": {},
   "outputs": [],
   "source": [
    "dates = []\n",
    "prices = []"
   ]
  },
  {
   "cell_type": "code",
   "execution_count": 27,
   "metadata": {},
   "outputs": [],
   "source": [
    "def get_data(filename):\n",
    "    with open(filename, 'r') as csvfile:\n",
    "        data = csv.reader(csvfile)\n",
    "        next(data)\n",
    "        for row in data:\n",
    "            dates.append(int(row[0].split('-')[0]))\n",
    "            prices.append(float(row[4]))\n",
    "    return"
   ]
  },
  {
   "cell_type": "code",
   "execution_count": 28,
   "metadata": {},
   "outputs": [],
   "source": [
    "def predict_price(dates, prices, x):\n",
    "    # convert the matrix to [n][1]\n",
    "    dates = np.reshape(dates, (len(dates), 1))\n",
    "    \n",
    "    svr_lin = SVR(kernel = 'linear', C = 1e3)\n",
    "    svr_poly = SVR(kernel = 'poly', C = 1e3, degree = 2)\n",
    "    svr_rbf = SVR(kernel = 'rbf', C = 1e3, gamma = 0.1)\n",
    "    svr_lin.fit(dates, prices)\n",
    "    svr_poly.fit(dates, prices)\n",
    "    svr_rbf.fit(dates, prices)\n",
    "    \n",
    "    plt.scatter(dates, prices, color = 'black', label = 'Data')\n",
    "    \n",
    "    plt.plot(dates, svr_lin.predict(dates), color = 'red', label = 'Linear Model')\n",
    "    plt.plot(dates, svr_poly.predict(dates), color = 'green', label = 'Polynomial Model')\n",
    "    plt.plot(dates, svr_rbf.predict(dates), color = 'blue', label = 'SVR Model')\n",
    "    \n",
    "    plt.xlabel('Date')\n",
    "    plt.ylabel(\"Price\")\n",
    "    plt.title(\"Support Vector Regression (SVR)\")\n",
    "    plt.legend()\n",
    "    plt.show()\n",
    "    \n",
    "    return svr_lin.predict(x)[0], svr_poly.predict(x)[0], svr_rbf.predict(x)[0]"
   ]
  },
  {
   "cell_type": "code",
   "execution_count": null,
   "metadata": {},
   "outputs": [],
   "source": [
    "get_data('SENSEX.csv')\n",
    "print (\"Dates- \"), dates\n",
    "print (\"Prices- \"), prices"
   ]
  },
  {
   "cell_type": "code",
   "execution_count": null,
   "metadata": {},
   "outputs": [],
   "source": [
    "predicted_price = predict_price(dates, prices, 29)\n",
    "print(\"The Stock Open Price: \")\n",
    "print(\"Linear Kernel: $\", str(predicted_price[0]))\n",
    "print(\"Polynomial Kernel: $\", str(predicted_price[1]))\n",
    "print(\"RBF Kernel: $\", str(predicted_price[2]))"
   ]
  }
 ],
 "metadata": {
  "kernelspec": {
   "display_name": "Python 3",
   "language": "python",
   "name": "python3"
  },
  "language_info": {
   "codemirror_mode": {
    "name": "ipython",
    "version": 3
   },
   "file_extension": ".py",
   "mimetype": "text/x-python",
   "name": "python",
   "nbconvert_exporter": "python",
   "pygments_lexer": "ipython3",
   "version": "3.6.4"
  }
 },
 "nbformat": 4,
 "nbformat_minor": 2
}
